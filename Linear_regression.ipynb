{
  "nbformat": 4,
  "nbformat_minor": 0,
  "metadata": {
    "kernelspec": {
      "display_name": "Python 3",
      "language": "python",
      "name": "python3"
    },
    "language_info": {
      "codemirror_mode": {
        "name": "ipython",
        "version": 3
      },
      "file_extension": ".py",
      "mimetype": "text/x-python",
      "name": "python",
      "nbconvert_exporter": "python",
      "pygments_lexer": "ipython3",
      "version": "3.7.4"
    },
    "colab": {
      "name": "Linear_regression.ipynb",
      "provenance": [],
      "collapsed_sections": [
        "CEQD7mnys6xz",
        "DoUJgxcEs6xz",
        "IDyfnsKDs6x0",
        "IXAF_A41s6x0"
      ]
    }
  },
  "cells": [
    {
      "cell_type": "markdown",
      "metadata": {
        "id": "YQzAzGD4s6xr"
      },
      "source": [
        "# HSE 2021: Mathematical Methods for Data Analysis\n",
        "\n"
      ]
    },
    {
      "cell_type": "code",
      "metadata": {
        "ExecuteTime": {
          "end_time": "2020-09-26T16:48:20.566549Z",
          "start_time": "2020-09-26T16:48:19.893995Z"
        },
        "id": "0N-CJ2L0s6xx"
      },
      "source": [
        "import pandas as pd\n",
        "import numpy as np\n",
        "import matplotlib.pyplot as plt\n",
        "import seaborn as sns\n",
        "import sklearn\n",
        "from sklearn import datasets\n",
        "from sklearn.datasets import load_boston\n",
        "\n",
        "from sklearn.model_selection import train_test_split\n",
        "from sklearn.preprocessing import StandardScaler\n",
        "from sklearn.linear_model import LinearRegression\n",
        "from sklearn.linear_model import Ridge\n",
        "from sklearn.linear_model import Lasso\n",
        "import sklearn.metrics as metrics\n",
        "import statsmodels.api as sm\n",
        "from statsmodels.tools.eval_measures import rmse\n",
        "import numpy as np\n",
        "from sklearn.model_selection import GridSearchCV\n",
        "\n",
        "%matplotlib inline\n",
        "\n",
        "sns.set(style=\"darkgrid\")"
      ],
      "execution_count": null,
      "outputs": []
    },
    {
      "cell_type": "markdown",
      "metadata": {
        "id": "gaq_gJYxs6xx"
      },
      "source": [
        "### Data\n",
        "\n",
        "For this homework we use Boston Dataset from sklearn (based on UCI ML housing dataset)."
      ]
    },
    {
      "cell_type": "code",
      "metadata": {
        "id": "Ksi00G4Fs6xy"
      },
      "source": [
        "data = load_boston() # load dataset\n",
        "\n",
        "X = data.data\n",
        "y = data.target\n",
        "columns = data.feature_names\n"
      ],
      "execution_count": null,
      "outputs": []
    },
    {
      "cell_type": "markdown",
      "metadata": {
        "id": "Byku5H5cs6xy"
      },
      "source": [
        "## Linear regression"
      ]
    },
    {
      "cell_type": "markdown",
      "metadata": {
        "id": "PM89d4s3s6xy"
      },
      "source": [
        "#### 1. Create Pandas DataFrame and split the data into train and test sets with ratio 80:20 with random_state=0."
      ]
    },
    {
      "cell_type": "code",
      "metadata": {
        "id": "kEX2VU2ls6xy",
        "colab": {
          "base_uri": "https://localhost:8080/",
          "height": 204
        },
        "outputId": "f6c9020b-e2f3-498c-91c8-1d8e040f6b8e"
      },
      "source": [
        "datafr = pd.DataFrame(X, columns = columns)\n",
        "datafr['target'] = y\n",
        "X_train, X_test, y_train, y_test = train_test_split(datafr.drop('target', axis=1), datafr.target, \n",
        "                                                    test_size=0.2, random_state=0)\n",
        "datafr.head()"
      ],
      "execution_count": null,
      "outputs": [
        {
          "output_type": "execute_result",
          "data": {
            "text/html": [
              "<div>\n",
              "<style scoped>\n",
              "    .dataframe tbody tr th:only-of-type {\n",
              "        vertical-align: middle;\n",
              "    }\n",
              "\n",
              "    .dataframe tbody tr th {\n",
              "        vertical-align: top;\n",
              "    }\n",
              "\n",
              "    .dataframe thead th {\n",
              "        text-align: right;\n",
              "    }\n",
              "</style>\n",
              "<table border=\"1\" class=\"dataframe\">\n",
              "  <thead>\n",
              "    <tr style=\"text-align: right;\">\n",
              "      <th></th>\n",
              "      <th>CRIM</th>\n",
              "      <th>ZN</th>\n",
              "      <th>INDUS</th>\n",
              "      <th>CHAS</th>\n",
              "      <th>NOX</th>\n",
              "      <th>RM</th>\n",
              "      <th>AGE</th>\n",
              "      <th>DIS</th>\n",
              "      <th>RAD</th>\n",
              "      <th>TAX</th>\n",
              "      <th>PTRATIO</th>\n",
              "      <th>B</th>\n",
              "      <th>LSTAT</th>\n",
              "      <th>target</th>\n",
              "    </tr>\n",
              "  </thead>\n",
              "  <tbody>\n",
              "    <tr>\n",
              "      <th>0</th>\n",
              "      <td>0.00632</td>\n",
              "      <td>18.0</td>\n",
              "      <td>2.31</td>\n",
              "      <td>0.0</td>\n",
              "      <td>0.538</td>\n",
              "      <td>6.575</td>\n",
              "      <td>65.2</td>\n",
              "      <td>4.0900</td>\n",
              "      <td>1.0</td>\n",
              "      <td>296.0</td>\n",
              "      <td>15.3</td>\n",
              "      <td>396.90</td>\n",
              "      <td>4.98</td>\n",
              "      <td>24.0</td>\n",
              "    </tr>\n",
              "    <tr>\n",
              "      <th>1</th>\n",
              "      <td>0.02731</td>\n",
              "      <td>0.0</td>\n",
              "      <td>7.07</td>\n",
              "      <td>0.0</td>\n",
              "      <td>0.469</td>\n",
              "      <td>6.421</td>\n",
              "      <td>78.9</td>\n",
              "      <td>4.9671</td>\n",
              "      <td>2.0</td>\n",
              "      <td>242.0</td>\n",
              "      <td>17.8</td>\n",
              "      <td>396.90</td>\n",
              "      <td>9.14</td>\n",
              "      <td>21.6</td>\n",
              "    </tr>\n",
              "    <tr>\n",
              "      <th>2</th>\n",
              "      <td>0.02729</td>\n",
              "      <td>0.0</td>\n",
              "      <td>7.07</td>\n",
              "      <td>0.0</td>\n",
              "      <td>0.469</td>\n",
              "      <td>7.185</td>\n",
              "      <td>61.1</td>\n",
              "      <td>4.9671</td>\n",
              "      <td>2.0</td>\n",
              "      <td>242.0</td>\n",
              "      <td>17.8</td>\n",
              "      <td>392.83</td>\n",
              "      <td>4.03</td>\n",
              "      <td>34.7</td>\n",
              "    </tr>\n",
              "    <tr>\n",
              "      <th>3</th>\n",
              "      <td>0.03237</td>\n",
              "      <td>0.0</td>\n",
              "      <td>2.18</td>\n",
              "      <td>0.0</td>\n",
              "      <td>0.458</td>\n",
              "      <td>6.998</td>\n",
              "      <td>45.8</td>\n",
              "      <td>6.0622</td>\n",
              "      <td>3.0</td>\n",
              "      <td>222.0</td>\n",
              "      <td>18.7</td>\n",
              "      <td>394.63</td>\n",
              "      <td>2.94</td>\n",
              "      <td>33.4</td>\n",
              "    </tr>\n",
              "    <tr>\n",
              "      <th>4</th>\n",
              "      <td>0.06905</td>\n",
              "      <td>0.0</td>\n",
              "      <td>2.18</td>\n",
              "      <td>0.0</td>\n",
              "      <td>0.458</td>\n",
              "      <td>7.147</td>\n",
              "      <td>54.2</td>\n",
              "      <td>6.0622</td>\n",
              "      <td>3.0</td>\n",
              "      <td>222.0</td>\n",
              "      <td>18.7</td>\n",
              "      <td>396.90</td>\n",
              "      <td>5.33</td>\n",
              "      <td>36.2</td>\n",
              "    </tr>\n",
              "  </tbody>\n",
              "</table>\n",
              "</div>"
            ],
            "text/plain": [
              "      CRIM    ZN  INDUS  CHAS    NOX  ...    TAX  PTRATIO       B  LSTAT  target\n",
              "0  0.00632  18.0   2.31   0.0  0.538  ...  296.0     15.3  396.90   4.98    24.0\n",
              "1  0.02731   0.0   7.07   0.0  0.469  ...  242.0     17.8  396.90   9.14    21.6\n",
              "2  0.02729   0.0   7.07   0.0  0.469  ...  242.0     17.8  392.83   4.03    34.7\n",
              "3  0.03237   0.0   2.18   0.0  0.458  ...  222.0     18.7  394.63   2.94    33.4\n",
              "4  0.06905   0.0   2.18   0.0  0.458  ...  222.0     18.7  396.90   5.33    36.2\n",
              "\n",
              "[5 rows x 14 columns]"
            ]
          },
          "metadata": {
            "tags": []
          },
          "execution_count": 47
        }
      ]
    },
    {
      "cell_type": "markdown",
      "metadata": {
        "id": "CEQD7mnys6xz"
      },
      "source": [
        "#### 2.  Train models on train data using StatsModels library and apply it to the test set; use $RMSE$ and $R^2$ as the quality measure.\n",
        "\n",
        "* [`LinearRegression`](http://scikit-learn.org/stable/modules/generated/sklearn.linear_model.LinearRegression.html);\n",
        "* [`Ridge`](http://scikit-learn.org/stable/modules/generated/sklearn.linear_model.Ridge.html) with $\\alpha = 0.01$;\n",
        "* [`Lasso`](http://scikit-learn.org/stable/modules/generated/sklearn.linear_model.Lasso.html) with $\\alpha = 0.01$\n",
        "\n",
        "Don't forget to scale the data before training the models with StandardScaler!"
      ]
    },
    {
      "cell_type": "code",
      "metadata": {
        "id": "GX_7OgVLs6xz"
      },
      "source": [
        "scaler = StandardScaler()\n",
        "X_train_scaled = scaler.fit_transform(X_train)\n",
        "X_test_scaled = scaler.transform(X_test)\n",
        "\n",
        "X_train_scaled_df = pd.DataFrame(X_train_scaled, columns = X_train.columns)\n",
        "\n",
        "X_train_scaled_df = sm.add_constant(X_train_scaled_df)\n",
        "X_test_scaled = sm.add_constant(X_test_scaled)\n",
        "X_train_scaled = sm.add_constant(X_train_scaled)"
      ],
      "execution_count": null,
      "outputs": []
    },
    {
      "cell_type": "code",
      "metadata": {
        "id": "w4zhhVgclHFU",
        "colab": {
          "base_uri": "https://localhost:8080/",
          "height": 569
        },
        "outputId": "b55ae9a7-8fa9-40ba-f9f4-6bacf8a88b75"
      },
      "source": [
        "y_train_rs=y_train.values.reshape(-1,1)\n",
        "\n",
        "model = sm.OLS(y_train_rs, X_train_scaled_df)\n",
        "results = model.fit()\n",
        "results.summary2()"
      ],
      "execution_count": null,
      "outputs": [
        {
          "output_type": "execute_result",
          "data": {
            "text/html": [
              "<table class=\"simpletable\">\n",
              "<tr>\n",
              "        <td>Model:</td>               <td>OLS</td>         <td>Adj. R-squared:</td>     <td>0.765</td>  \n",
              "</tr>\n",
              "<tr>\n",
              "  <td>Dependent Variable:</td>         <td>y</td>               <td>AIC:</td>         <td>2370.9385</td>\n",
              "</tr>\n",
              "<tr>\n",
              "         <td>Date:</td>        <td>2021-03-13 17:20</td>        <td>BIC:</td>         <td>2426.9583</td>\n",
              "</tr>\n",
              "<tr>\n",
              "   <td>No. Observations:</td>         <td>404</td>         <td>Log-Likelihood:</td>    <td>-1171.5</td> \n",
              "</tr>\n",
              "<tr>\n",
              "       <td>Df Model:</td>             <td>13</td>           <td>F-statistic:</td>       <td>102.2</td>  \n",
              "</tr>\n",
              "<tr>\n",
              "     <td>Df Residuals:</td>           <td>390</td>       <td>Prob (F-statistic):</td> <td>9.64e-117</td>\n",
              "</tr>\n",
              "<tr>\n",
              "      <td>R-squared:</td>            <td>0.773</td>            <td>Scale:</td>         <td>20.020</td>  \n",
              "</tr>\n",
              "</table>\n",
              "<table class=\"simpletable\">\n",
              "<tr>\n",
              "     <td></td>      <th>Coef.</th>  <th>Std.Err.</th>     <th>t</th>     <th>P>|t|</th> <th>[0.025</th>  <th>0.975]</th> \n",
              "</tr>\n",
              "<tr>\n",
              "  <th>const</th>   <td>22.6119</td>  <td>0.2226</td>  <td>101.5764</td> <td>0.0000</td> <td>22.1742</td> <td>23.0495</td>\n",
              "</tr>\n",
              "<tr>\n",
              "  <th>CRIM</th>    <td>-0.9708</td>  <td>0.2980</td>   <td>-3.2575</td> <td>0.0012</td> <td>-1.5568</td> <td>-0.3849</td>\n",
              "</tr>\n",
              "<tr>\n",
              "  <th>ZN</th>      <td>1.0571</td>   <td>0.3408</td>   <td>3.1022</td>  <td>0.0021</td> <td>0.3872</td>  <td>1.7271</td> \n",
              "</tr>\n",
              "<tr>\n",
              "  <th>INDUS</th>   <td>0.0383</td>   <td>0.4428</td>   <td>0.0865</td>  <td>0.9311</td> <td>-0.8324</td> <td>0.9090</td> \n",
              "</tr>\n",
              "<tr>\n",
              "  <th>CHAS</th>    <td>0.5945</td>   <td>0.2291</td>   <td>2.5946</td>  <td>0.0098</td> <td>0.1440</td>  <td>1.0450</td> \n",
              "</tr>\n",
              "<tr>\n",
              "  <th>NOX</th>     <td>-1.8551</td>  <td>0.4846</td>   <td>-3.8282</td> <td>0.0002</td> <td>-2.8079</td> <td>-0.9024</td>\n",
              "</tr>\n",
              "<tr>\n",
              "  <th>RM</th>      <td>2.5732</td>   <td>0.3175</td>   <td>8.1058</td>  <td>0.0000</td> <td>1.9491</td>  <td>3.1974</td> \n",
              "</tr>\n",
              "<tr>\n",
              "  <th>AGE</th>     <td>-0.0876</td>  <td>0.4022</td>   <td>-0.2178</td> <td>0.8277</td> <td>-0.8784</td> <td>0.7032</td> \n",
              "</tr>\n",
              "<tr>\n",
              "  <th>DIS</th>     <td>-2.8809</td>  <td>0.4446</td>   <td>-6.4800</td> <td>0.0000</td> <td>-3.7550</td> <td>-2.0068</td>\n",
              "</tr>\n",
              "<tr>\n",
              "  <th>RAD</th>     <td>2.1122</td>   <td>0.6069</td>   <td>3.4805</td>  <td>0.0006</td> <td>0.9191</td>  <td>3.3054</td> \n",
              "</tr>\n",
              "<tr>\n",
              "  <th>TAX</th>     <td>-1.8753</td>  <td>0.6652</td>   <td>-2.8191</td> <td>0.0051</td> <td>-3.1832</td> <td>-0.5675</td>\n",
              "</tr>\n",
              "<tr>\n",
              "  <th>PTRATIO</th> <td>-2.2928</td>  <td>0.3003</td>   <td>-7.6359</td> <td>0.0000</td> <td>-2.8831</td> <td>-1.7024</td>\n",
              "</tr>\n",
              "<tr>\n",
              "  <th>B</th>       <td>0.7182</td>   <td>0.2613</td>   <td>2.7486</td>  <td>0.0063</td> <td>0.2045</td>  <td>1.2319</td> \n",
              "</tr>\n",
              "<tr>\n",
              "  <th>LSTAT</th>   <td>-3.5925</td>  <td>0.3954</td>   <td>-9.0855</td> <td>0.0000</td> <td>-4.3698</td> <td>-2.8151</td>\n",
              "</tr>\n",
              "</table>\n",
              "<table class=\"simpletable\">\n",
              "<tr>\n",
              "     <td>Omnibus:</td>    <td>141.494</td>  <td>Durbin-Watson:</td>    <td>1.996</td> \n",
              "</tr>\n",
              "<tr>\n",
              "  <td>Prob(Omnibus):</td>  <td>0.000</td>  <td>Jarque-Bera (JB):</td> <td>629.882</td>\n",
              "</tr>\n",
              "<tr>\n",
              "       <td>Skew:</td>      <td>1.470</td>      <td>Prob(JB):</td>      <td>0.000</td> \n",
              "</tr>\n",
              "<tr>\n",
              "     <td>Kurtosis:</td>    <td>8.365</td>   <td>Condition No.:</td>     <td>10</td>   \n",
              "</tr>\n",
              "</table>"
            ],
            "text/plain": [
              "<class 'statsmodels.iolib.summary2.Summary'>\n",
              "\"\"\"\n",
              "                 Results: Ordinary least squares\n",
              "==================================================================\n",
              "Model:              OLS              Adj. R-squared:     0.765    \n",
              "Dependent Variable: y                AIC:                2370.9385\n",
              "Date:               2021-03-13 17:20 BIC:                2426.9583\n",
              "No. Observations:   404              Log-Likelihood:     -1171.5  \n",
              "Df Model:           13               F-statistic:        102.2    \n",
              "Df Residuals:       390              Prob (F-statistic): 9.64e-117\n",
              "R-squared:          0.773            Scale:              20.020   \n",
              "--------------------------------------------------------------------\n",
              "           Coef.    Std.Err.      t       P>|t|     [0.025    0.975]\n",
              "--------------------------------------------------------------------\n",
              "const     22.6119     0.2226   101.5764   0.0000   22.1742   23.0495\n",
              "CRIM      -0.9708     0.2980    -3.2575   0.0012   -1.5568   -0.3849\n",
              "ZN         1.0571     0.3408     3.1022   0.0021    0.3872    1.7271\n",
              "INDUS      0.0383     0.4428     0.0865   0.9311   -0.8324    0.9090\n",
              "CHAS       0.5945     0.2291     2.5946   0.0098    0.1440    1.0450\n",
              "NOX       -1.8551     0.4846    -3.8282   0.0002   -2.8079   -0.9024\n",
              "RM         2.5732     0.3175     8.1058   0.0000    1.9491    3.1974\n",
              "AGE       -0.0876     0.4022    -0.2178   0.8277   -0.8784    0.7032\n",
              "DIS       -2.8809     0.4446    -6.4800   0.0000   -3.7550   -2.0068\n",
              "RAD        2.1122     0.6069     3.4805   0.0006    0.9191    3.3054\n",
              "TAX       -1.8753     0.6652    -2.8191   0.0051   -3.1832   -0.5675\n",
              "PTRATIO   -2.2928     0.3003    -7.6359   0.0000   -2.8831   -1.7024\n",
              "B          0.7182     0.2613     2.7486   0.0063    0.2045    1.2319\n",
              "LSTAT     -3.5925     0.3954    -9.0855   0.0000   -4.3698   -2.8151\n",
              "------------------------------------------------------------------\n",
              "Omnibus:             141.494       Durbin-Watson:          1.996  \n",
              "Prob(Omnibus):       0.000         Jarque-Bera (JB):       629.882\n",
              "Skew:                1.470         Prob(JB):               0.000  \n",
              "Kurtosis:            8.365         Condition No.:          10     \n",
              "==================================================================\n",
              "\n",
              "\"\"\""
            ]
          },
          "metadata": {
            "tags": []
          },
          "execution_count": 49
        }
      ]
    },
    {
      "cell_type": "code",
      "metadata": {
        "colab": {
          "base_uri": "https://localhost:8080/"
        },
        "id": "ym2n-DGMr7RA",
        "outputId": "719e6819-e702-411f-cc28-1df085370df0"
      },
      "source": [
        "y_test_pred = results.predict(X_test_scaled)\n",
        "y_train_pred = results.predict(X_train_scaled)\n",
        "\n",
        "rmse_test = rmse(y_test, y_test_pred)\n",
        "rmse_train = rmse(y_train, y_train_pred)\n",
        "print(\"Test RMSE = \", rmse_test)\n",
        "print(\"Train RMSE = \", rmse_train)"
      ],
      "execution_count": null,
      "outputs": [
        {
          "output_type": "stream",
          "text": [
            "Test RMSE =  5.783509315085143\n",
            "Train RMSE =  4.396188144698282\n"
          ],
          "name": "stdout"
        }
      ]
    },
    {
      "cell_type": "code",
      "metadata": {
        "id": "HHarprjBjAlC",
        "colab": {
          "base_uri": "https://localhost:8080/",
          "height": 569
        },
        "outputId": "5342cb94-e405-4993-c1eb-9774f6f7236b"
      },
      "source": [
        "results_ridge = model.fit_regularized(L1_wt=0, alpha=0.01, start_params=results.params)\n",
        "final_ridge = sm.regression.linear_model.OLSResults(model, \n",
        "                                              results_ridge.params, \n",
        "                                              model.normalized_cov_params)\n",
        "\n",
        "final_ridge.summary2()"
      ],
      "execution_count": null,
      "outputs": [
        {
          "output_type": "execute_result",
          "data": {
            "text/html": [
              "<table class=\"simpletable\">\n",
              "<tr>\n",
              "        <td>Model:</td>               <td>OLS</td>         <td>Adj. R-squared:</td>     <td>0.765</td>  \n",
              "</tr>\n",
              "<tr>\n",
              "  <td>Dependent Variable:</td>         <td>y</td>               <td>AIC:</td>         <td>2372.3540</td>\n",
              "</tr>\n",
              "<tr>\n",
              "         <td>Date:</td>        <td>2021-03-13 17:20</td>        <td>BIC:</td>         <td>2428.3738</td>\n",
              "</tr>\n",
              "<tr>\n",
              "   <td>No. Observations:</td>         <td>404</td>         <td>Log-Likelihood:</td>    <td>-1172.2</td> \n",
              "</tr>\n",
              "<tr>\n",
              "       <td>Df Model:</td>             <td>13</td>           <td>F-statistic:</td>       <td>101.7</td>  \n",
              "</tr>\n",
              "<tr>\n",
              "     <td>Df Residuals:</td>           <td>390</td>       <td>Prob (F-statistic):</td> <td>1.90e-116</td>\n",
              "</tr>\n",
              "<tr>\n",
              "      <td>R-squared:</td>            <td>0.772</td>            <td>Scale:</td>         <td>20.091</td>  \n",
              "</tr>\n",
              "</table>\n",
              "<table class=\"simpletable\">\n",
              "<tr>\n",
              "     <td></td>      <th>Coef.</th>  <th>Std.Err.</th>     <th>t</th>     <th>P>|t|</th> <th>[0.025</th>  <th>0.975]</th> \n",
              "</tr>\n",
              "<tr>\n",
              "  <th>const</th>   <td>22.3880</td>  <td>0.2230</td>  <td>100.3946</td> <td>0.0000</td> <td>21.9496</td> <td>22.8264</td>\n",
              "</tr>\n",
              "<tr>\n",
              "  <th>CRIM</th>    <td>-0.9389</td>  <td>0.2986</td>   <td>-3.1449</td> <td>0.0018</td> <td>-1.5259</td> <td>-0.3519</td>\n",
              "</tr>\n",
              "<tr>\n",
              "  <th>ZN</th>      <td>0.9965</td>   <td>0.3414</td>   <td>2.9190</td>  <td>0.0037</td> <td>0.3253</td>  <td>1.6676</td> \n",
              "</tr>\n",
              "<tr>\n",
              "  <th>INDUS</th>   <td>-0.0576</td>  <td>0.4436</td>   <td>-0.1298</td> <td>0.8968</td> <td>-0.9298</td> <td>0.8146</td> \n",
              "</tr>\n",
              "<tr>\n",
              "  <th>CHAS</th>    <td>0.6098</td>   <td>0.2295</td>   <td>2.6566</td>  <td>0.0082</td> <td>0.1585</td>  <td>1.0611</td> \n",
              "</tr>\n",
              "<tr>\n",
              "  <th>NOX</th>     <td>-1.7222</td>  <td>0.4854</td>   <td>-3.5477</td> <td>0.0004</td> <td>-2.6766</td> <td>-0.7678</td>\n",
              "</tr>\n",
              "<tr>\n",
              "  <th>RM</th>      <td>2.6120</td>   <td>0.3180</td>   <td>8.2135</td>  <td>0.0000</td> <td>1.9868</td>  <td>3.2372</td> \n",
              "</tr>\n",
              "<tr>\n",
              "  <th>AGE</th>     <td>-0.1155</td>  <td>0.4029</td>   <td>-0.2867</td> <td>0.7745</td> <td>-0.9078</td> <td>0.6767</td> \n",
              "</tr>\n",
              "<tr>\n",
              "  <th>DIS</th>     <td>-2.7539</td>  <td>0.4454</td>   <td>-6.1834</td> <td>0.0000</td> <td>-3.6295</td> <td>-1.8783</td>\n",
              "</tr>\n",
              "<tr>\n",
              "  <th>RAD</th>     <td>1.8348</td>   <td>0.6079</td>   <td>3.0181</td>  <td>0.0027</td> <td>0.6396</td>  <td>3.0301</td> \n",
              "</tr>\n",
              "<tr>\n",
              "  <th>TAX</th>     <td>-1.6265</td>  <td>0.6664</td>   <td>-2.4407</td> <td>0.0151</td> <td>-2.9366</td> <td>-0.3163</td>\n",
              "</tr>\n",
              "<tr>\n",
              "  <th>PTRATIO</th> <td>-2.2561</td>  <td>0.3008</td>   <td>-7.5007</td> <td>0.0000</td> <td>-2.8475</td> <td>-1.6648</td>\n",
              "</tr>\n",
              "<tr>\n",
              "  <th>B</th>       <td>0.7188</td>   <td>0.2617</td>   <td>2.7463</td>  <td>0.0063</td> <td>0.2042</td>  <td>1.2334</td> \n",
              "</tr>\n",
              "<tr>\n",
              "  <th>LSTAT</th>   <td>-3.5287</td>  <td>0.3961</td>   <td>-8.9086</td> <td>0.0000</td> <td>-4.3074</td> <td>-2.7499</td>\n",
              "</tr>\n",
              "</table>\n",
              "<table class=\"simpletable\">\n",
              "<tr>\n",
              "     <td>Omnibus:</td>    <td>147.660</td>  <td>Durbin-Watson:</td>    <td>1.990</td> \n",
              "</tr>\n",
              "<tr>\n",
              "  <td>Prob(Omnibus):</td>  <td>0.000</td>  <td>Jarque-Bera (JB):</td> <td>694.793</td>\n",
              "</tr>\n",
              "<tr>\n",
              "       <td>Skew:</td>      <td>1.521</td>      <td>Prob(JB):</td>      <td>0.000</td> \n",
              "</tr>\n",
              "<tr>\n",
              "     <td>Kurtosis:</td>    <td>8.659</td>   <td>Condition No.:</td>     <td>10</td>   \n",
              "</tr>\n",
              "</table>"
            ],
            "text/plain": [
              "<class 'statsmodels.iolib.summary2.Summary'>\n",
              "\"\"\"\n",
              "                 Results: Ordinary least squares\n",
              "==================================================================\n",
              "Model:              OLS              Adj. R-squared:     0.765    \n",
              "Dependent Variable: y                AIC:                2372.3540\n",
              "Date:               2021-03-13 17:20 BIC:                2428.3738\n",
              "No. Observations:   404              Log-Likelihood:     -1172.2  \n",
              "Df Model:           13               F-statistic:        101.7    \n",
              "Df Residuals:       390              Prob (F-statistic): 1.90e-116\n",
              "R-squared:          0.772            Scale:              20.091   \n",
              "--------------------------------------------------------------------\n",
              "           Coef.    Std.Err.      t       P>|t|     [0.025    0.975]\n",
              "--------------------------------------------------------------------\n",
              "const     22.3880     0.2230   100.3946   0.0000   21.9496   22.8264\n",
              "CRIM      -0.9389     0.2986    -3.1449   0.0018   -1.5259   -0.3519\n",
              "ZN         0.9965     0.3414     2.9190   0.0037    0.3253    1.6676\n",
              "INDUS     -0.0576     0.4436    -0.1298   0.8968   -0.9298    0.8146\n",
              "CHAS       0.6098     0.2295     2.6566   0.0082    0.1585    1.0611\n",
              "NOX       -1.7222     0.4854    -3.5477   0.0004   -2.6766   -0.7678\n",
              "RM         2.6120     0.3180     8.2135   0.0000    1.9868    3.2372\n",
              "AGE       -0.1155     0.4029    -0.2867   0.7745   -0.9078    0.6767\n",
              "DIS       -2.7539     0.4454    -6.1834   0.0000   -3.6295   -1.8783\n",
              "RAD        1.8348     0.6079     3.0181   0.0027    0.6396    3.0301\n",
              "TAX       -1.6265     0.6664    -2.4407   0.0151   -2.9366   -0.3163\n",
              "PTRATIO   -2.2561     0.3008    -7.5007   0.0000   -2.8475   -1.6648\n",
              "B          0.7188     0.2617     2.7463   0.0063    0.2042    1.2334\n",
              "LSTAT     -3.5287     0.3961    -8.9086   0.0000   -4.3074   -2.7499\n",
              "------------------------------------------------------------------\n",
              "Omnibus:             147.660       Durbin-Watson:          1.990  \n",
              "Prob(Omnibus):       0.000         Jarque-Bera (JB):       694.793\n",
              "Skew:                1.521         Prob(JB):               0.000  \n",
              "Kurtosis:            8.659         Condition No.:          10     \n",
              "==================================================================\n",
              "\n",
              "\"\"\""
            ]
          },
          "metadata": {
            "tags": []
          },
          "execution_count": 51
        }
      ]
    },
    {
      "cell_type": "code",
      "metadata": {
        "colab": {
          "base_uri": "https://localhost:8080/"
        },
        "id": "jkREyWSfr-cW",
        "outputId": "de0905d8-3736-4ee5-9d77-cc5c66fb9c1a"
      },
      "source": [
        "y_test_pred = final_ridge.predict(X_test_scaled)\n",
        "y_train_pred = final_ridge.predict(X_train_scaled)\n",
        "\n",
        "rmse_test_ridge = rmse(y_test, y_test_pred)\n",
        "rmse_train_ridge = rmse(y_train, y_train_pred)\n",
        "print(\"Test RMSE = \", rmse_test_ridge)\n",
        "print(\"Train RMSE = \", rmse_train_ridge)"
      ],
      "execution_count": null,
      "outputs": [
        {
          "output_type": "stream",
          "text": [
            "Test RMSE =  5.827028146610334\n",
            "Train RMSE =  4.403896239747625\n"
          ],
          "name": "stdout"
        }
      ]
    },
    {
      "cell_type": "code",
      "metadata": {
        "colab": {
          "base_uri": "https://localhost:8080/",
          "height": 569
        },
        "id": "eC4xn7M8lElp",
        "outputId": "c023776e-acba-4e36-f2ab-edb8de7391b5"
      },
      "source": [
        "results_lasso = model.fit_regularized(L1_wt=1, alpha=0.01, start_params=results.params)\n",
        "final_lasso = sm.regression.linear_model.OLSResults(model, \n",
        "                                              results_lasso.params, \n",
        "                                              model.normalized_cov_params)\n",
        "\n",
        "final_lasso.summary2()"
      ],
      "execution_count": null,
      "outputs": [
        {
          "output_type": "execute_result",
          "data": {
            "text/html": [
              "<table class=\"simpletable\">\n",
              "<tr>\n",
              "        <td>Model:</td>               <td>OLS</td>         <td>Adj. R-squared:</td>     <td>0.765</td>  \n",
              "</tr>\n",
              "<tr>\n",
              "  <td>Dependent Variable:</td>         <td>y</td>               <td>AIC:</td>         <td>2371.0437</td>\n",
              "</tr>\n",
              "<tr>\n",
              "         <td>Date:</td>        <td>2021-03-13 17:20</td>        <td>BIC:</td>         <td>2427.0635</td>\n",
              "</tr>\n",
              "<tr>\n",
              "   <td>No. Observations:</td>         <td>404</td>         <td>Log-Likelihood:</td>    <td>-1171.5</td> \n",
              "</tr>\n",
              "<tr>\n",
              "       <td>Df Model:</td>             <td>13</td>           <td>F-statistic:</td>       <td>102.1</td>  \n",
              "</tr>\n",
              "<tr>\n",
              "     <td>Df Residuals:</td>           <td>390</td>       <td>Prob (F-statistic):</td> <td>1.01e-116</td>\n",
              "</tr>\n",
              "<tr>\n",
              "      <td>R-squared:</td>            <td>0.773</td>            <td>Scale:</td>         <td>20.025</td>  \n",
              "</tr>\n",
              "</table>\n",
              "<table class=\"simpletable\">\n",
              "<tr>\n",
              "     <td></td>      <th>Coef.</th>  <th>Std.Err.</th>     <th>t</th>     <th>P>|t|</th> <th>[0.025</th>  <th>0.975]</th> \n",
              "</tr>\n",
              "<tr>\n",
              "  <th>const</th>   <td>22.6019</td>  <td>0.2226</td>  <td>101.5182</td> <td>0.0000</td> <td>22.1642</td> <td>23.0396</td>\n",
              "</tr>\n",
              "<tr>\n",
              "  <th>CRIM</th>    <td>-0.9404</td>  <td>0.2981</td>   <td>-3.1549</td> <td>0.0017</td> <td>-1.5264</td> <td>-0.3543</td>\n",
              "</tr>\n",
              "<tr>\n",
              "  <th>ZN</th>      <td>1.0215</td>   <td>0.3408</td>   <td>2.9973</td>  <td>0.0029</td> <td>0.3515</td>  <td>1.6916</td> \n",
              "</tr>\n",
              "<tr>\n",
              "  <th>INDUS</th>   <td>0.0000</td>   <td>0.4429</td>   <td>0.0000</td>  <td>1.0000</td> <td>-0.8708</td> <td>0.8708</td> \n",
              "</tr>\n",
              "<tr>\n",
              "  <th>CHAS</th>    <td>0.5948</td>   <td>0.2292</td>   <td>2.5955</td>  <td>0.0098</td> <td>0.1442</td>  <td>1.0453</td> \n",
              "</tr>\n",
              "<tr>\n",
              "  <th>NOX</th>     <td>-1.8030</td>  <td>0.4847</td>   <td>-3.7202</td> <td>0.0002</td> <td>-2.7559</td> <td>-0.8502</td>\n",
              "</tr>\n",
              "<tr>\n",
              "  <th>RM</th>      <td>2.5851</td>   <td>0.3175</td>   <td>8.1423</td>  <td>0.0000</td> <td>1.9609</td>  <td>3.2094</td> \n",
              "</tr>\n",
              "<tr>\n",
              "  <th>AGE</th>     <td>-0.0690</td>  <td>0.4023</td>   <td>-0.1715</td> <td>0.8639</td> <td>-0.8599</td> <td>0.7220</td> \n",
              "</tr>\n",
              "<tr>\n",
              "  <th>DIS</th>     <td>-2.8085</td>  <td>0.4446</td>   <td>-6.3163</td> <td>0.0000</td> <td>-3.6828</td> <td>-1.9343</td>\n",
              "</tr>\n",
              "<tr>\n",
              "  <th>RAD</th>     <td>1.9569</td>   <td>0.6070</td>   <td>3.2241</td>  <td>0.0014</td> <td>0.7636</td>  <td>3.1502</td> \n",
              "</tr>\n",
              "<tr>\n",
              "  <th>TAX</th>     <td>-1.7393</td>  <td>0.6653</td>   <td>-2.6142</td> <td>0.0093</td> <td>-3.0473</td> <td>-0.4312</td>\n",
              "</tr>\n",
              "<tr>\n",
              "  <th>PTRATIO</th> <td>-2.2788</td>  <td>0.3003</td>   <td>-7.5885</td> <td>0.0000</td> <td>-2.8692</td> <td>-1.6884</td>\n",
              "</tr>\n",
              "<tr>\n",
              "  <th>B</th>       <td>0.7056</td>   <td>0.2613</td>   <td>2.7000</td>  <td>0.0072</td> <td>0.1918</td>  <td>1.2194</td> \n",
              "</tr>\n",
              "<tr>\n",
              "  <th>LSTAT</th>   <td>-3.5969</td>  <td>0.3955</td>   <td>-9.0956</td> <td>0.0000</td> <td>-4.3744</td> <td>-2.8194</td>\n",
              "</tr>\n",
              "</table>\n",
              "<table class=\"simpletable\">\n",
              "<tr>\n",
              "     <td>Omnibus:</td>    <td>143.583</td>  <td>Durbin-Watson:</td>    <td>1.997</td> \n",
              "</tr>\n",
              "<tr>\n",
              "  <td>Prob(Omnibus):</td>  <td>0.000</td>  <td>Jarque-Bera (JB):</td> <td>649.866</td>\n",
              "</tr>\n",
              "<tr>\n",
              "       <td>Skew:</td>      <td>1.488</td>      <td>Prob(JB):</td>      <td>0.000</td> \n",
              "</tr>\n",
              "<tr>\n",
              "     <td>Kurtosis:</td>    <td>8.454</td>   <td>Condition No.:</td>     <td>10</td>   \n",
              "</tr>\n",
              "</table>"
            ],
            "text/plain": [
              "<class 'statsmodels.iolib.summary2.Summary'>\n",
              "\"\"\"\n",
              "                 Results: Ordinary least squares\n",
              "==================================================================\n",
              "Model:              OLS              Adj. R-squared:     0.765    \n",
              "Dependent Variable: y                AIC:                2371.0437\n",
              "Date:               2021-03-13 17:20 BIC:                2427.0635\n",
              "No. Observations:   404              Log-Likelihood:     -1171.5  \n",
              "Df Model:           13               F-statistic:        102.1    \n",
              "Df Residuals:       390              Prob (F-statistic): 1.01e-116\n",
              "R-squared:          0.773            Scale:              20.025   \n",
              "--------------------------------------------------------------------\n",
              "           Coef.    Std.Err.      t       P>|t|     [0.025    0.975]\n",
              "--------------------------------------------------------------------\n",
              "const     22.6019     0.2226   101.5182   0.0000   22.1642   23.0396\n",
              "CRIM      -0.9404     0.2981    -3.1549   0.0017   -1.5264   -0.3543\n",
              "ZN         1.0215     0.3408     2.9973   0.0029    0.3515    1.6916\n",
              "INDUS      0.0000     0.4429     0.0000   1.0000   -0.8708    0.8708\n",
              "CHAS       0.5948     0.2292     2.5955   0.0098    0.1442    1.0453\n",
              "NOX       -1.8030     0.4847    -3.7202   0.0002   -2.7559   -0.8502\n",
              "RM         2.5851     0.3175     8.1423   0.0000    1.9609    3.2094\n",
              "AGE       -0.0690     0.4023    -0.1715   0.8639   -0.8599    0.7220\n",
              "DIS       -2.8085     0.4446    -6.3163   0.0000   -3.6828   -1.9343\n",
              "RAD        1.9569     0.6070     3.2241   0.0014    0.7636    3.1502\n",
              "TAX       -1.7393     0.6653    -2.6142   0.0093   -3.0473   -0.4312\n",
              "PTRATIO   -2.2788     0.3003    -7.5885   0.0000   -2.8692   -1.6884\n",
              "B          0.7056     0.2613     2.7000   0.0072    0.1918    1.2194\n",
              "LSTAT     -3.5969     0.3955    -9.0956   0.0000   -4.3744   -2.8194\n",
              "------------------------------------------------------------------\n",
              "Omnibus:             143.583       Durbin-Watson:          1.997  \n",
              "Prob(Omnibus):       0.000         Jarque-Bera (JB):       649.866\n",
              "Skew:                1.488         Prob(JB):               0.000  \n",
              "Kurtosis:            8.454         Condition No.:          10     \n",
              "==================================================================\n",
              "\n",
              "\"\"\""
            ]
          },
          "metadata": {
            "tags": []
          },
          "execution_count": 53
        }
      ]
    },
    {
      "cell_type": "code",
      "metadata": {
        "colab": {
          "base_uri": "https://localhost:8080/"
        },
        "id": "NddFqQD7sOiS",
        "outputId": "ae2edd58-2865-44f6-c827-f4a3a2f98d10"
      },
      "source": [
        "y_test_pred = final_lasso.predict(X_test_scaled)\n",
        "y_train_pred = final_lasso.predict(X_train_scaled)\n",
        "\n",
        "rmse_test_lasso = rmse(y_test, y_test_pred)\n",
        "rmse_train_lasso = rmse(y_train, y_train_pred)\n",
        "print(\"Test RMSE = \", rmse_test_lasso)\n",
        "print(\"Train RMSE = \", rmse_train_lasso)"
      ],
      "execution_count": null,
      "outputs": [
        {
          "output_type": "stream",
          "text": [
            "Test RMSE =  5.796199043424474\n",
            "Train RMSE =  4.396760341407677\n"
          ],
          "name": "stdout"
        }
      ]
    },
    {
      "cell_type": "markdown",
      "metadata": {
        "id": "tmIXQt2mROVm"
      },
      "source": [
        "**As we can see, the best performance indicators of RMSE on train and test sets are in the first Linear regression model. Also it has one of the highest R^2 result, which means that this model best matches the data.**"
      ]
    },
    {
      "cell_type": "markdown",
      "metadata": {
        "id": "DoUJgxcEs6xz"
      },
      "source": [
        "#### 3. Explore the values of the parameters of the resulting models and compare the number of zero weights in them. Comment on the significance of the coefficients, overal model significance and other related factors from the results table"
      ]
    },
    {
      "cell_type": "markdown",
      "metadata": {
        "id": "rH4dzXLcTDMZ"
      },
      "source": [
        "Below we can see the tables with all neccessary information about each model.\n",
        "First of all let's pay attention to the values of the parameters. We are aware, that Ridge and Lasso regression help us to reduce the value of parameters. That's why we can see in Lasso model one zero weight parameter (INDUS). It means that proportion of non-retail business acres per town does not effect our target. In other models the value of that parameter is close to zero.\n",
        "\n",
        "To determine the significance of the coefficient we need to take a look to the p-value results. \n",
        "\n",
        "I'd like to use significance level of alpha = 0.05. \n",
        "In all 3 type of models we can see, that p-value coefficient of (INDUS) and (AGE) is more than selected level of significance. That means that they can be removed from our model (they do not effect the target). But still sometimes after removing one parameter the other can become more significant.\n",
        "\n",
        "Well, now we can look at the r^2 result of each model. This parameter can help us to tell how good our model descides the data as it close to 1. The highest R^2 is in Lasso and Linear Regression models. \n",
        "\n",
        "Also we can take a look to F-statistic results. This statistic is used for accessing the significance of all model. The null hypotesis is that our model is equal to model where target = const (in our case: 22.612 or 22.602 or 22.388). Given Prob (F-statistic):\t9.64e-117 and Prob (F-statistic):\t1.01e-116 and Prob (F-statistic):\t1.90e-116 are close to zero and the f-statistics values are large, which means that our models are significant.\n",
        "\n"
      ]
    },
    {
      "cell_type": "code",
      "metadata": {
        "id": "QftnKOEEs6x0",
        "colab": {
          "base_uri": "https://localhost:8080/",
          "height": 569
        },
        "outputId": "186796e3-f8ba-4cce-a3c4-d8e9ec122134"
      },
      "source": [
        "results.summary2()"
      ],
      "execution_count": null,
      "outputs": [
        {
          "output_type": "execute_result",
          "data": {
            "text/html": [
              "<table class=\"simpletable\">\n",
              "<tr>\n",
              "        <td>Model:</td>               <td>OLS</td>         <td>Adj. R-squared:</td>     <td>0.765</td>  \n",
              "</tr>\n",
              "<tr>\n",
              "  <td>Dependent Variable:</td>         <td>y</td>               <td>AIC:</td>         <td>2370.9385</td>\n",
              "</tr>\n",
              "<tr>\n",
              "         <td>Date:</td>        <td>2021-03-13 17:20</td>        <td>BIC:</td>         <td>2426.9583</td>\n",
              "</tr>\n",
              "<tr>\n",
              "   <td>No. Observations:</td>         <td>404</td>         <td>Log-Likelihood:</td>    <td>-1171.5</td> \n",
              "</tr>\n",
              "<tr>\n",
              "       <td>Df Model:</td>             <td>13</td>           <td>F-statistic:</td>       <td>102.2</td>  \n",
              "</tr>\n",
              "<tr>\n",
              "     <td>Df Residuals:</td>           <td>390</td>       <td>Prob (F-statistic):</td> <td>9.64e-117</td>\n",
              "</tr>\n",
              "<tr>\n",
              "      <td>R-squared:</td>            <td>0.773</td>            <td>Scale:</td>         <td>20.020</td>  \n",
              "</tr>\n",
              "</table>\n",
              "<table class=\"simpletable\">\n",
              "<tr>\n",
              "     <td></td>      <th>Coef.</th>  <th>Std.Err.</th>     <th>t</th>     <th>P>|t|</th> <th>[0.025</th>  <th>0.975]</th> \n",
              "</tr>\n",
              "<tr>\n",
              "  <th>const</th>   <td>22.6119</td>  <td>0.2226</td>  <td>101.5764</td> <td>0.0000</td> <td>22.1742</td> <td>23.0495</td>\n",
              "</tr>\n",
              "<tr>\n",
              "  <th>CRIM</th>    <td>-0.9708</td>  <td>0.2980</td>   <td>-3.2575</td> <td>0.0012</td> <td>-1.5568</td> <td>-0.3849</td>\n",
              "</tr>\n",
              "<tr>\n",
              "  <th>ZN</th>      <td>1.0571</td>   <td>0.3408</td>   <td>3.1022</td>  <td>0.0021</td> <td>0.3872</td>  <td>1.7271</td> \n",
              "</tr>\n",
              "<tr>\n",
              "  <th>INDUS</th>   <td>0.0383</td>   <td>0.4428</td>   <td>0.0865</td>  <td>0.9311</td> <td>-0.8324</td> <td>0.9090</td> \n",
              "</tr>\n",
              "<tr>\n",
              "  <th>CHAS</th>    <td>0.5945</td>   <td>0.2291</td>   <td>2.5946</td>  <td>0.0098</td> <td>0.1440</td>  <td>1.0450</td> \n",
              "</tr>\n",
              "<tr>\n",
              "  <th>NOX</th>     <td>-1.8551</td>  <td>0.4846</td>   <td>-3.8282</td> <td>0.0002</td> <td>-2.8079</td> <td>-0.9024</td>\n",
              "</tr>\n",
              "<tr>\n",
              "  <th>RM</th>      <td>2.5732</td>   <td>0.3175</td>   <td>8.1058</td>  <td>0.0000</td> <td>1.9491</td>  <td>3.1974</td> \n",
              "</tr>\n",
              "<tr>\n",
              "  <th>AGE</th>     <td>-0.0876</td>  <td>0.4022</td>   <td>-0.2178</td> <td>0.8277</td> <td>-0.8784</td> <td>0.7032</td> \n",
              "</tr>\n",
              "<tr>\n",
              "  <th>DIS</th>     <td>-2.8809</td>  <td>0.4446</td>   <td>-6.4800</td> <td>0.0000</td> <td>-3.7550</td> <td>-2.0068</td>\n",
              "</tr>\n",
              "<tr>\n",
              "  <th>RAD</th>     <td>2.1122</td>   <td>0.6069</td>   <td>3.4805</td>  <td>0.0006</td> <td>0.9191</td>  <td>3.3054</td> \n",
              "</tr>\n",
              "<tr>\n",
              "  <th>TAX</th>     <td>-1.8753</td>  <td>0.6652</td>   <td>-2.8191</td> <td>0.0051</td> <td>-3.1832</td> <td>-0.5675</td>\n",
              "</tr>\n",
              "<tr>\n",
              "  <th>PTRATIO</th> <td>-2.2928</td>  <td>0.3003</td>   <td>-7.6359</td> <td>0.0000</td> <td>-2.8831</td> <td>-1.7024</td>\n",
              "</tr>\n",
              "<tr>\n",
              "  <th>B</th>       <td>0.7182</td>   <td>0.2613</td>   <td>2.7486</td>  <td>0.0063</td> <td>0.2045</td>  <td>1.2319</td> \n",
              "</tr>\n",
              "<tr>\n",
              "  <th>LSTAT</th>   <td>-3.5925</td>  <td>0.3954</td>   <td>-9.0855</td> <td>0.0000</td> <td>-4.3698</td> <td>-2.8151</td>\n",
              "</tr>\n",
              "</table>\n",
              "<table class=\"simpletable\">\n",
              "<tr>\n",
              "     <td>Omnibus:</td>    <td>141.494</td>  <td>Durbin-Watson:</td>    <td>1.996</td> \n",
              "</tr>\n",
              "<tr>\n",
              "  <td>Prob(Omnibus):</td>  <td>0.000</td>  <td>Jarque-Bera (JB):</td> <td>629.882</td>\n",
              "</tr>\n",
              "<tr>\n",
              "       <td>Skew:</td>      <td>1.470</td>      <td>Prob(JB):</td>      <td>0.000</td> \n",
              "</tr>\n",
              "<tr>\n",
              "     <td>Kurtosis:</td>    <td>8.365</td>   <td>Condition No.:</td>     <td>10</td>   \n",
              "</tr>\n",
              "</table>"
            ],
            "text/plain": [
              "<class 'statsmodels.iolib.summary2.Summary'>\n",
              "\"\"\"\n",
              "                 Results: Ordinary least squares\n",
              "==================================================================\n",
              "Model:              OLS              Adj. R-squared:     0.765    \n",
              "Dependent Variable: y                AIC:                2370.9385\n",
              "Date:               2021-03-13 17:20 BIC:                2426.9583\n",
              "No. Observations:   404              Log-Likelihood:     -1171.5  \n",
              "Df Model:           13               F-statistic:        102.2    \n",
              "Df Residuals:       390              Prob (F-statistic): 9.64e-117\n",
              "R-squared:          0.773            Scale:              20.020   \n",
              "--------------------------------------------------------------------\n",
              "           Coef.    Std.Err.      t       P>|t|     [0.025    0.975]\n",
              "--------------------------------------------------------------------\n",
              "const     22.6119     0.2226   101.5764   0.0000   22.1742   23.0495\n",
              "CRIM      -0.9708     0.2980    -3.2575   0.0012   -1.5568   -0.3849\n",
              "ZN         1.0571     0.3408     3.1022   0.0021    0.3872    1.7271\n",
              "INDUS      0.0383     0.4428     0.0865   0.9311   -0.8324    0.9090\n",
              "CHAS       0.5945     0.2291     2.5946   0.0098    0.1440    1.0450\n",
              "NOX       -1.8551     0.4846    -3.8282   0.0002   -2.8079   -0.9024\n",
              "RM         2.5732     0.3175     8.1058   0.0000    1.9491    3.1974\n",
              "AGE       -0.0876     0.4022    -0.2178   0.8277   -0.8784    0.7032\n",
              "DIS       -2.8809     0.4446    -6.4800   0.0000   -3.7550   -2.0068\n",
              "RAD        2.1122     0.6069     3.4805   0.0006    0.9191    3.3054\n",
              "TAX       -1.8753     0.6652    -2.8191   0.0051   -3.1832   -0.5675\n",
              "PTRATIO   -2.2928     0.3003    -7.6359   0.0000   -2.8831   -1.7024\n",
              "B          0.7182     0.2613     2.7486   0.0063    0.2045    1.2319\n",
              "LSTAT     -3.5925     0.3954    -9.0855   0.0000   -4.3698   -2.8151\n",
              "------------------------------------------------------------------\n",
              "Omnibus:             141.494       Durbin-Watson:          1.996  \n",
              "Prob(Omnibus):       0.000         Jarque-Bera (JB):       629.882\n",
              "Skew:                1.470         Prob(JB):               0.000  \n",
              "Kurtosis:            8.365         Condition No.:          10     \n",
              "==================================================================\n",
              "\n",
              "\"\"\""
            ]
          },
          "metadata": {
            "tags": []
          },
          "execution_count": 55
        }
      ]
    },
    {
      "cell_type": "code",
      "metadata": {
        "colab": {
          "base_uri": "https://localhost:8080/",
          "height": 569
        },
        "id": "opERjya7S72Y",
        "outputId": "174692e5-f288-416b-fe38-4822b478a715"
      },
      "source": [
        "final_lasso.summary2()"
      ],
      "execution_count": null,
      "outputs": [
        {
          "output_type": "execute_result",
          "data": {
            "text/html": [
              "<table class=\"simpletable\">\n",
              "<tr>\n",
              "        <td>Model:</td>               <td>OLS</td>         <td>Adj. R-squared:</td>     <td>0.765</td>  \n",
              "</tr>\n",
              "<tr>\n",
              "  <td>Dependent Variable:</td>         <td>y</td>               <td>AIC:</td>         <td>2371.0437</td>\n",
              "</tr>\n",
              "<tr>\n",
              "         <td>Date:</td>        <td>2021-03-13 17:20</td>        <td>BIC:</td>         <td>2427.0635</td>\n",
              "</tr>\n",
              "<tr>\n",
              "   <td>No. Observations:</td>         <td>404</td>         <td>Log-Likelihood:</td>    <td>-1171.5</td> \n",
              "</tr>\n",
              "<tr>\n",
              "       <td>Df Model:</td>             <td>13</td>           <td>F-statistic:</td>       <td>102.1</td>  \n",
              "</tr>\n",
              "<tr>\n",
              "     <td>Df Residuals:</td>           <td>390</td>       <td>Prob (F-statistic):</td> <td>1.01e-116</td>\n",
              "</tr>\n",
              "<tr>\n",
              "      <td>R-squared:</td>            <td>0.773</td>            <td>Scale:</td>         <td>20.025</td>  \n",
              "</tr>\n",
              "</table>\n",
              "<table class=\"simpletable\">\n",
              "<tr>\n",
              "     <td></td>      <th>Coef.</th>  <th>Std.Err.</th>     <th>t</th>     <th>P>|t|</th> <th>[0.025</th>  <th>0.975]</th> \n",
              "</tr>\n",
              "<tr>\n",
              "  <th>const</th>   <td>22.6019</td>  <td>0.2226</td>  <td>101.5182</td> <td>0.0000</td> <td>22.1642</td> <td>23.0396</td>\n",
              "</tr>\n",
              "<tr>\n",
              "  <th>CRIM</th>    <td>-0.9404</td>  <td>0.2981</td>   <td>-3.1549</td> <td>0.0017</td> <td>-1.5264</td> <td>-0.3543</td>\n",
              "</tr>\n",
              "<tr>\n",
              "  <th>ZN</th>      <td>1.0215</td>   <td>0.3408</td>   <td>2.9973</td>  <td>0.0029</td> <td>0.3515</td>  <td>1.6916</td> \n",
              "</tr>\n",
              "<tr>\n",
              "  <th>INDUS</th>   <td>0.0000</td>   <td>0.4429</td>   <td>0.0000</td>  <td>1.0000</td> <td>-0.8708</td> <td>0.8708</td> \n",
              "</tr>\n",
              "<tr>\n",
              "  <th>CHAS</th>    <td>0.5948</td>   <td>0.2292</td>   <td>2.5955</td>  <td>0.0098</td> <td>0.1442</td>  <td>1.0453</td> \n",
              "</tr>\n",
              "<tr>\n",
              "  <th>NOX</th>     <td>-1.8030</td>  <td>0.4847</td>   <td>-3.7202</td> <td>0.0002</td> <td>-2.7559</td> <td>-0.8502</td>\n",
              "</tr>\n",
              "<tr>\n",
              "  <th>RM</th>      <td>2.5851</td>   <td>0.3175</td>   <td>8.1423</td>  <td>0.0000</td> <td>1.9609</td>  <td>3.2094</td> \n",
              "</tr>\n",
              "<tr>\n",
              "  <th>AGE</th>     <td>-0.0690</td>  <td>0.4023</td>   <td>-0.1715</td> <td>0.8639</td> <td>-0.8599</td> <td>0.7220</td> \n",
              "</tr>\n",
              "<tr>\n",
              "  <th>DIS</th>     <td>-2.8085</td>  <td>0.4446</td>   <td>-6.3163</td> <td>0.0000</td> <td>-3.6828</td> <td>-1.9343</td>\n",
              "</tr>\n",
              "<tr>\n",
              "  <th>RAD</th>     <td>1.9569</td>   <td>0.6070</td>   <td>3.2241</td>  <td>0.0014</td> <td>0.7636</td>  <td>3.1502</td> \n",
              "</tr>\n",
              "<tr>\n",
              "  <th>TAX</th>     <td>-1.7393</td>  <td>0.6653</td>   <td>-2.6142</td> <td>0.0093</td> <td>-3.0473</td> <td>-0.4312</td>\n",
              "</tr>\n",
              "<tr>\n",
              "  <th>PTRATIO</th> <td>-2.2788</td>  <td>0.3003</td>   <td>-7.5885</td> <td>0.0000</td> <td>-2.8692</td> <td>-1.6884</td>\n",
              "</tr>\n",
              "<tr>\n",
              "  <th>B</th>       <td>0.7056</td>   <td>0.2613</td>   <td>2.7000</td>  <td>0.0072</td> <td>0.1918</td>  <td>1.2194</td> \n",
              "</tr>\n",
              "<tr>\n",
              "  <th>LSTAT</th>   <td>-3.5969</td>  <td>0.3955</td>   <td>-9.0956</td> <td>0.0000</td> <td>-4.3744</td> <td>-2.8194</td>\n",
              "</tr>\n",
              "</table>\n",
              "<table class=\"simpletable\">\n",
              "<tr>\n",
              "     <td>Omnibus:</td>    <td>143.583</td>  <td>Durbin-Watson:</td>    <td>1.997</td> \n",
              "</tr>\n",
              "<tr>\n",
              "  <td>Prob(Omnibus):</td>  <td>0.000</td>  <td>Jarque-Bera (JB):</td> <td>649.866</td>\n",
              "</tr>\n",
              "<tr>\n",
              "       <td>Skew:</td>      <td>1.488</td>      <td>Prob(JB):</td>      <td>0.000</td> \n",
              "</tr>\n",
              "<tr>\n",
              "     <td>Kurtosis:</td>    <td>8.454</td>   <td>Condition No.:</td>     <td>10</td>   \n",
              "</tr>\n",
              "</table>"
            ],
            "text/plain": [
              "<class 'statsmodels.iolib.summary2.Summary'>\n",
              "\"\"\"\n",
              "                 Results: Ordinary least squares\n",
              "==================================================================\n",
              "Model:              OLS              Adj. R-squared:     0.765    \n",
              "Dependent Variable: y                AIC:                2371.0437\n",
              "Date:               2021-03-13 17:20 BIC:                2427.0635\n",
              "No. Observations:   404              Log-Likelihood:     -1171.5  \n",
              "Df Model:           13               F-statistic:        102.1    \n",
              "Df Residuals:       390              Prob (F-statistic): 1.01e-116\n",
              "R-squared:          0.773            Scale:              20.025   \n",
              "--------------------------------------------------------------------\n",
              "           Coef.    Std.Err.      t       P>|t|     [0.025    0.975]\n",
              "--------------------------------------------------------------------\n",
              "const     22.6019     0.2226   101.5182   0.0000   22.1642   23.0396\n",
              "CRIM      -0.9404     0.2981    -3.1549   0.0017   -1.5264   -0.3543\n",
              "ZN         1.0215     0.3408     2.9973   0.0029    0.3515    1.6916\n",
              "INDUS      0.0000     0.4429     0.0000   1.0000   -0.8708    0.8708\n",
              "CHAS       0.5948     0.2292     2.5955   0.0098    0.1442    1.0453\n",
              "NOX       -1.8030     0.4847    -3.7202   0.0002   -2.7559   -0.8502\n",
              "RM         2.5851     0.3175     8.1423   0.0000    1.9609    3.2094\n",
              "AGE       -0.0690     0.4023    -0.1715   0.8639   -0.8599    0.7220\n",
              "DIS       -2.8085     0.4446    -6.3163   0.0000   -3.6828   -1.9343\n",
              "RAD        1.9569     0.6070     3.2241   0.0014    0.7636    3.1502\n",
              "TAX       -1.7393     0.6653    -2.6142   0.0093   -3.0473   -0.4312\n",
              "PTRATIO   -2.2788     0.3003    -7.5885   0.0000   -2.8692   -1.6884\n",
              "B          0.7056     0.2613     2.7000   0.0072    0.1918    1.2194\n",
              "LSTAT     -3.5969     0.3955    -9.0956   0.0000   -4.3744   -2.8194\n",
              "------------------------------------------------------------------\n",
              "Omnibus:             143.583       Durbin-Watson:          1.997  \n",
              "Prob(Omnibus):       0.000         Jarque-Bera (JB):       649.866\n",
              "Skew:                1.488         Prob(JB):               0.000  \n",
              "Kurtosis:            8.454         Condition No.:          10     \n",
              "==================================================================\n",
              "\n",
              "\"\"\""
            ]
          },
          "metadata": {
            "tags": []
          },
          "execution_count": 56
        }
      ]
    },
    {
      "cell_type": "code",
      "metadata": {
        "colab": {
          "base_uri": "https://localhost:8080/",
          "height": 569
        },
        "id": "YYWY5_X2S7-N",
        "outputId": "36b59bb8-0365-4906-f9de-acbe774b27ed"
      },
      "source": [
        "final_ridge.summary2()"
      ],
      "execution_count": null,
      "outputs": [
        {
          "output_type": "execute_result",
          "data": {
            "text/html": [
              "<table class=\"simpletable\">\n",
              "<tr>\n",
              "        <td>Model:</td>               <td>OLS</td>         <td>Adj. R-squared:</td>     <td>0.765</td>  \n",
              "</tr>\n",
              "<tr>\n",
              "  <td>Dependent Variable:</td>         <td>y</td>               <td>AIC:</td>         <td>2372.3540</td>\n",
              "</tr>\n",
              "<tr>\n",
              "         <td>Date:</td>        <td>2021-03-13 17:20</td>        <td>BIC:</td>         <td>2428.3738</td>\n",
              "</tr>\n",
              "<tr>\n",
              "   <td>No. Observations:</td>         <td>404</td>         <td>Log-Likelihood:</td>    <td>-1172.2</td> \n",
              "</tr>\n",
              "<tr>\n",
              "       <td>Df Model:</td>             <td>13</td>           <td>F-statistic:</td>       <td>101.7</td>  \n",
              "</tr>\n",
              "<tr>\n",
              "     <td>Df Residuals:</td>           <td>390</td>       <td>Prob (F-statistic):</td> <td>1.90e-116</td>\n",
              "</tr>\n",
              "<tr>\n",
              "      <td>R-squared:</td>            <td>0.772</td>            <td>Scale:</td>         <td>20.091</td>  \n",
              "</tr>\n",
              "</table>\n",
              "<table class=\"simpletable\">\n",
              "<tr>\n",
              "     <td></td>      <th>Coef.</th>  <th>Std.Err.</th>     <th>t</th>     <th>P>|t|</th> <th>[0.025</th>  <th>0.975]</th> \n",
              "</tr>\n",
              "<tr>\n",
              "  <th>const</th>   <td>22.3880</td>  <td>0.2230</td>  <td>100.3946</td> <td>0.0000</td> <td>21.9496</td> <td>22.8264</td>\n",
              "</tr>\n",
              "<tr>\n",
              "  <th>CRIM</th>    <td>-0.9389</td>  <td>0.2986</td>   <td>-3.1449</td> <td>0.0018</td> <td>-1.5259</td> <td>-0.3519</td>\n",
              "</tr>\n",
              "<tr>\n",
              "  <th>ZN</th>      <td>0.9965</td>   <td>0.3414</td>   <td>2.9190</td>  <td>0.0037</td> <td>0.3253</td>  <td>1.6676</td> \n",
              "</tr>\n",
              "<tr>\n",
              "  <th>INDUS</th>   <td>-0.0576</td>  <td>0.4436</td>   <td>-0.1298</td> <td>0.8968</td> <td>-0.9298</td> <td>0.8146</td> \n",
              "</tr>\n",
              "<tr>\n",
              "  <th>CHAS</th>    <td>0.6098</td>   <td>0.2295</td>   <td>2.6566</td>  <td>0.0082</td> <td>0.1585</td>  <td>1.0611</td> \n",
              "</tr>\n",
              "<tr>\n",
              "  <th>NOX</th>     <td>-1.7222</td>  <td>0.4854</td>   <td>-3.5477</td> <td>0.0004</td> <td>-2.6766</td> <td>-0.7678</td>\n",
              "</tr>\n",
              "<tr>\n",
              "  <th>RM</th>      <td>2.6120</td>   <td>0.3180</td>   <td>8.2135</td>  <td>0.0000</td> <td>1.9868</td>  <td>3.2372</td> \n",
              "</tr>\n",
              "<tr>\n",
              "  <th>AGE</th>     <td>-0.1155</td>  <td>0.4029</td>   <td>-0.2867</td> <td>0.7745</td> <td>-0.9078</td> <td>0.6767</td> \n",
              "</tr>\n",
              "<tr>\n",
              "  <th>DIS</th>     <td>-2.7539</td>  <td>0.4454</td>   <td>-6.1834</td> <td>0.0000</td> <td>-3.6295</td> <td>-1.8783</td>\n",
              "</tr>\n",
              "<tr>\n",
              "  <th>RAD</th>     <td>1.8348</td>   <td>0.6079</td>   <td>3.0181</td>  <td>0.0027</td> <td>0.6396</td>  <td>3.0301</td> \n",
              "</tr>\n",
              "<tr>\n",
              "  <th>TAX</th>     <td>-1.6265</td>  <td>0.6664</td>   <td>-2.4407</td> <td>0.0151</td> <td>-2.9366</td> <td>-0.3163</td>\n",
              "</tr>\n",
              "<tr>\n",
              "  <th>PTRATIO</th> <td>-2.2561</td>  <td>0.3008</td>   <td>-7.5007</td> <td>0.0000</td> <td>-2.8475</td> <td>-1.6648</td>\n",
              "</tr>\n",
              "<tr>\n",
              "  <th>B</th>       <td>0.7188</td>   <td>0.2617</td>   <td>2.7463</td>  <td>0.0063</td> <td>0.2042</td>  <td>1.2334</td> \n",
              "</tr>\n",
              "<tr>\n",
              "  <th>LSTAT</th>   <td>-3.5287</td>  <td>0.3961</td>   <td>-8.9086</td> <td>0.0000</td> <td>-4.3074</td> <td>-2.7499</td>\n",
              "</tr>\n",
              "</table>\n",
              "<table class=\"simpletable\">\n",
              "<tr>\n",
              "     <td>Omnibus:</td>    <td>147.660</td>  <td>Durbin-Watson:</td>    <td>1.990</td> \n",
              "</tr>\n",
              "<tr>\n",
              "  <td>Prob(Omnibus):</td>  <td>0.000</td>  <td>Jarque-Bera (JB):</td> <td>694.793</td>\n",
              "</tr>\n",
              "<tr>\n",
              "       <td>Skew:</td>      <td>1.521</td>      <td>Prob(JB):</td>      <td>0.000</td> \n",
              "</tr>\n",
              "<tr>\n",
              "     <td>Kurtosis:</td>    <td>8.659</td>   <td>Condition No.:</td>     <td>10</td>   \n",
              "</tr>\n",
              "</table>"
            ],
            "text/plain": [
              "<class 'statsmodels.iolib.summary2.Summary'>\n",
              "\"\"\"\n",
              "                 Results: Ordinary least squares\n",
              "==================================================================\n",
              "Model:              OLS              Adj. R-squared:     0.765    \n",
              "Dependent Variable: y                AIC:                2372.3540\n",
              "Date:               2021-03-13 17:20 BIC:                2428.3738\n",
              "No. Observations:   404              Log-Likelihood:     -1172.2  \n",
              "Df Model:           13               F-statistic:        101.7    \n",
              "Df Residuals:       390              Prob (F-statistic): 1.90e-116\n",
              "R-squared:          0.772            Scale:              20.091   \n",
              "--------------------------------------------------------------------\n",
              "           Coef.    Std.Err.      t       P>|t|     [0.025    0.975]\n",
              "--------------------------------------------------------------------\n",
              "const     22.3880     0.2230   100.3946   0.0000   21.9496   22.8264\n",
              "CRIM      -0.9389     0.2986    -3.1449   0.0018   -1.5259   -0.3519\n",
              "ZN         0.9965     0.3414     2.9190   0.0037    0.3253    1.6676\n",
              "INDUS     -0.0576     0.4436    -0.1298   0.8968   -0.9298    0.8146\n",
              "CHAS       0.6098     0.2295     2.6566   0.0082    0.1585    1.0611\n",
              "NOX       -1.7222     0.4854    -3.5477   0.0004   -2.6766   -0.7678\n",
              "RM         2.6120     0.3180     8.2135   0.0000    1.9868    3.2372\n",
              "AGE       -0.1155     0.4029    -0.2867   0.7745   -0.9078    0.6767\n",
              "DIS       -2.7539     0.4454    -6.1834   0.0000   -3.6295   -1.8783\n",
              "RAD        1.8348     0.6079     3.0181   0.0027    0.6396    3.0301\n",
              "TAX       -1.6265     0.6664    -2.4407   0.0151   -2.9366   -0.3163\n",
              "PTRATIO   -2.2561     0.3008    -7.5007   0.0000   -2.8475   -1.6648\n",
              "B          0.7188     0.2617     2.7463   0.0063    0.2042    1.2334\n",
              "LSTAT     -3.5287     0.3961    -8.9086   0.0000   -4.3074   -2.7499\n",
              "------------------------------------------------------------------\n",
              "Omnibus:             147.660       Durbin-Watson:          1.990  \n",
              "Prob(Omnibus):       0.000         Jarque-Bera (JB):       694.793\n",
              "Skew:                1.521         Prob(JB):               0.000  \n",
              "Kurtosis:            8.659         Condition No.:          10     \n",
              "==================================================================\n",
              "\n",
              "\"\"\""
            ]
          },
          "metadata": {
            "tags": []
          },
          "execution_count": 57
        }
      ]
    },
    {
      "cell_type": "markdown",
      "metadata": {
        "id": "IDyfnsKDs6x0"
      },
      "source": [
        "#### 4. Implement one of the elimination algorithms that were described in the Seminar_4 (Elimination by P-value, Forward elimination, Backward elimination), make conclusions."
      ]
    },
    {
      "cell_type": "code",
      "metadata": {
        "id": "lYTQDD7Ss6x0"
      },
      "source": [
        "def Elimination(X_train, y, level, columns):\n",
        "    best_columns = columns\n",
        "    best_X = X_train\n",
        "    reg_OLS = sm.OLS(y, X_train).fit()\n",
        "    best_R_value = reg_OLS.rsquared_adj\n",
        "    best_OLS = sm.OLS(y, X_train).fit()\n",
        "    num_col = len(X_train[0])\n",
        "    for i in range(0, num_col):\n",
        "        reg_OLS = sm.OLS(y, X_train).fit()\n",
        "        maxPval = max(reg_OLS.pvalues)\n",
        "        if maxPval >= level:\n",
        "            for j in range(0, num_col - i):\n",
        "                if (reg_OLS.pvalues[j] == maxPval):\n",
        "                    columns = np.delete(columns, j-1)\n",
        "                    X_train = np.delete(X_train, j, 1)\n",
        "                    if (reg_OLS.rsquared_adj > best_R_value):\n",
        "                      best_OLS = sm.OLS(y, X_train).fit()\n",
        "                      best_R_value = reg_OLS.rsquared_adj\n",
        "                      best_columns = columns\n",
        "                      best_X = X_train\n",
        "    print(best_OLS.summary())\n",
        "    return best_X, best_columns\n"
      ],
      "execution_count": null,
      "outputs": []
    },
    {
      "cell_type": "code",
      "metadata": {
        "colab": {
          "base_uri": "https://localhost:8080/"
        },
        "id": "-U4XRnHN-KIo",
        "outputId": "b25c8a47-8bf7-48be-885a-ec0fdcc5fb9e"
      },
      "source": [
        "extra_columns = columns\n",
        "new_model, best_columns = Elimination(X_train_scaled, y_train, 0.05, extra_columns)\n",
        "print (best_columns)"
      ],
      "execution_count": null,
      "outputs": [
        {
          "output_type": "stream",
          "text": [
            "                            OLS Regression Results                            \n",
            "==============================================================================\n",
            "Dep. Variable:                 target   R-squared:                       0.773\n",
            "Model:                            OLS   Adj. R-squared:                  0.767\n",
            "Method:                 Least Squares   F-statistic:                     121.3\n",
            "Date:                Sat, 13 Mar 2021   Prob (F-statistic):          8.15e-119\n",
            "Time:                        17:20:23   Log-Likelihood:                -1171.5\n",
            "No. Observations:                 404   AIC:                             2367.\n",
            "Df Residuals:                     392   BIC:                             2415.\n",
            "Df Model:                          11                                         \n",
            "Covariance Type:            nonrobust                                         \n",
            "==============================================================================\n",
            "                 coef    std err          t      P>|t|      [0.025      0.975]\n",
            "------------------------------------------------------------------------------\n",
            "const         22.6119      0.222    101.829      0.000      22.175      23.048\n",
            "x1            -0.9694      0.297     -3.265      0.001      -1.553      -0.386\n",
            "x2             1.0657      0.335      3.182      0.002       0.407       1.724\n",
            "x3             0.5950      0.228      2.615      0.009       0.148       1.042\n",
            "x4            -1.8752      0.446     -4.209      0.000      -2.751      -0.999\n",
            "x5             2.5571      0.309      8.269      0.000       1.949       3.165\n",
            "x6            -2.8621      0.414     -6.906      0.000      -3.677      -2.047\n",
            "x7             2.1039      0.573      3.672      0.000       0.978       3.230\n",
            "x8            -1.8509      0.589     -3.141      0.002      -3.009      -0.692\n",
            "x9            -2.2922      0.295     -7.762      0.000      -2.873      -1.712\n",
            "x10            0.7116      0.259      2.746      0.006       0.202       1.221\n",
            "x11           -3.6205      0.368     -9.848      0.000      -4.343      -2.898\n",
            "==============================================================================\n",
            "Omnibus:                      140.146   Durbin-Watson:                   1.999\n",
            "Prob(Omnibus):                  0.000   Jarque-Bera (JB):              614.839\n",
            "Skew:                           1.459   Prob(JB):                    3.09e-134\n",
            "Kurtosis:                       8.292   Cond. No.                         7.77\n",
            "==============================================================================\n",
            "\n",
            "Warnings:\n",
            "[1] Standard Errors assume that the covariance matrix of the errors is correctly specified.\n",
            "['CRIM' 'ZN' 'CHAS' 'NOX' 'RM' 'DIS' 'RAD' 'TAX' 'PTRATIO' 'B' 'LSTAT']\n"
          ],
          "name": "stdout"
        }
      ]
    },
    {
      "cell_type": "markdown",
      "metadata": {
        "id": "tz7m6Md6EguN"
      },
      "source": [
        "**So as we can see the best result (in terms of R^2) we can get when we throw away INDUS and AGE.**"
      ]
    },
    {
      "cell_type": "markdown",
      "metadata": {
        "id": "IXAF_A41s6x0"
      },
      "source": [
        "#### 5. Find the best (in terms of RMSE) $\\alpha$ for Ridge regression using cross-validation with 5 folds. You must select values from range $[10^{-4}, 10^{3}]$."
      ]
    },
    {
      "cell_type": "code",
      "metadata": {
        "id": "HZOjXTyNs6x1",
        "colab": {
          "base_uri": "https://localhost:8080/"
        },
        "outputId": "1848340a-c8c0-48f7-c217-4bcd69ef6bb7"
      },
      "source": [
        "alpha = np.linspace(10**(-4), 10**3, 1000)\n",
        "find_alpha = GridSearchCV(Ridge(), [{\"alpha\": alpha}], scoring=\"neg_root_mean_squared_error\", cv=5)\n",
        "find_alpha.fit(X_train_scaled, y_train)\n",
        "best_res = find_alpha.best_params_[\"alpha\"]\n",
        "print(\"Best alpha = %.4f\" % best_res)"
      ],
      "execution_count": null,
      "outputs": [
        {
          "output_type": "stream",
          "text": [
            "Best alpha = 8.0081\n"
          ],
          "name": "stdout"
        }
      ]
    },
    {
      "cell_type": "code",
      "metadata": {
        "colab": {
          "base_uri": "https://localhost:8080/"
        },
        "id": "UINuHJHT7hR7",
        "outputId": "1ce99137-1d4e-4875-fa42-fbd5faa4631d"
      },
      "source": [
        "# Let's check\n",
        "\n",
        "results_ridge = model.fit_regularized(L1_wt=0, alpha=0.01, start_params=results.params)\n",
        "final_ridge = sm.regression.linear_model.OLSResults(model, \n",
        "                                              results_ridge.params, \n",
        "                                              model.normalized_cov_params)\n",
        "\n",
        "y_test_pred = final_ridge.predict(X_test_scaled)\n",
        "y_train_pred = final_ridge.predict(X_train_scaled)\n",
        "\n",
        "rmse_test_ridge = rmse(y_test, y_test_pred)\n",
        "rmse_train_ridge = rmse(y_train, y_train_pred)\n",
        "print(\"Test RMSE = \", rmse_test_ridge)\n",
        "print(\"Train RMSE = \", rmse_train_ridge)"
      ],
      "execution_count": null,
      "outputs": [
        {
          "output_type": "stream",
          "text": [
            "Test RMSE =  5.827028146610334\n",
            "Train RMSE =  4.403896239747625\n"
          ],
          "name": "stdout"
        }
      ]
    },
    {
      "cell_type": "code",
      "metadata": {
        "colab": {
          "base_uri": "https://localhost:8080/"
        },
        "id": "IC-GdELs7hZy",
        "outputId": "2b0c6272-bcec-4bb8-8ba6-54d01c6da540"
      },
      "source": [
        "results_ridge = model.fit_regularized(L1_wt=0, alpha=8.0081, start_params=results.params)\n",
        "final_ridge = sm.regression.linear_model.OLSResults(model, \n",
        "                                              results_ridge.params, \n",
        "                                              model.normalized_cov_params)\n",
        "\n",
        "y_test_pred = final_ridge.predict(X_test_scaled)\n",
        "y_train_pred = final_ridge.predict(X_train_scaled)\n",
        "\n",
        "rmse_test_ridge = rmse(y_test, y_test_pred)\n",
        "rmse_train_ridge = rmse(y_train, y_train_pred)\n",
        "print(\"Test RMSE = \", rmse_test_ridge)\n",
        "print(\"Train RMSE = \", rmse_train_ridge)"
      ],
      "execution_count": null,
      "outputs": [
        {
          "output_type": "stream",
          "text": [
            "Test RMSE =  21.37501050517079\n",
            "Train RMSE =  21.38700573335917\n"
          ],
          "name": "stdout"
        }
      ]
    },
    {
      "cell_type": "code",
      "metadata": {
        "colab": {
          "base_uri": "https://localhost:8080/"
        },
        "id": "Pf1gfqo7751J",
        "outputId": "b6c95388-ead5-4625-9611-fc68be02f8aa"
      },
      "source": [
        "results_ridge = model.fit_regularized(L1_wt=0, alpha=10.0081, start_params=results.params)\n",
        "final_ridge = sm.regression.linear_model.OLSResults(model, \n",
        "                                              results_ridge.params, \n",
        "                                              model.normalized_cov_params)\n",
        "\n",
        "y_test_pred = final_ridge.predict(X_test_scaled)\n",
        "y_train_pred = final_ridge.predict(X_train_scaled)\n",
        "\n",
        "rmse_test_ridge = rmse(y_test, y_test_pred)\n",
        "rmse_train_ridge = rmse(y_train, y_train_pred)\n",
        "print(\"Test RMSE = \", rmse_test_ridge)\n",
        "print(\"Train RMSE = \", rmse_train_ridge)"
      ],
      "execution_count": null,
      "outputs": [
        {
          "output_type": "stream",
          "text": [
            "Test RMSE =  21.824149608598937\n",
            "Train RMSE =  21.895620668368803\n"
          ],
          "name": "stdout"
        }
      ]
    }
  ]
}